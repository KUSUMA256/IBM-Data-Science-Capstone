{
  "nbformat": 4,
  "nbformat_minor": 0,
  "metadata": {
    "colab": {
      "provenance": []
    },
    "kernelspec": {
      "name": "python3",
      "display_name": "Python 3"
    },
    "language_info": {
      "name": "python"
    }
  },
  "cells": [
    {
      "cell_type": "code",
      "execution_count": 8,
      "metadata": {
        "colab": {
          "base_uri": "https://localhost:8080/"
        },
        "id": "haxElovRGu8T",
        "outputId": "a00ec3c6-e88b-46bb-bfa5-ceb34fc99f53"
      },
      "outputs": [
        {
          "output_type": "stream",
          "name": "stdout",
          "text": [
            "Found 5 tables\n",
            "  Flight No.                                Date and time (UTC)  \\\n",
            "0        286                          January 3, 2024 03:44[23]   \n",
            "1        286  Launch of 22 Starlink v2 mini satellites, incl...   \n",
            "2        287                          January 3, 2024 23:04[24]   \n",
            "3        287  Broadband internet provider satellite.[25] Fir...   \n",
            "4        288                          January 7, 2024 22:35[28]   \n",
            "\n",
            "                                 Version, booster[i]  \\\n",
            "0                                      F9 B5 B1082‑1   \n",
            "1  Launch of 22 Starlink v2 mini satellites, incl...   \n",
            "2                                     F9 B5 B1076‑10   \n",
            "3  Broadband internet provider satellite.[25] Fir...   \n",
            "4                                     F9 B5 B1067‑16   \n",
            "\n",
            "                                         Launch site  \\\n",
            "0                                 Vandenberg, SLC‑4E   \n",
            "1  Launch of 22 Starlink v2 mini satellites, incl...   \n",
            "2                             Cape Canaveral, SLC‑40   \n",
            "3  Broadband internet provider satellite.[25] Fir...   \n",
            "4                             Cape Canaveral, SLC‑40   \n",
            "\n",
            "                                          Payload[j]  \\\n",
            "0                Starlink: Group 7-9 (22 satellites)   \n",
            "1  Launch of 22 Starlink v2 mini satellites, incl...   \n",
            "2                                            Ovzon-3   \n",
            "3  Broadband internet provider satellite.[25] Fir...   \n",
            "4               Starlink: Group 6-35 (23 satellites)   \n",
            "\n",
            "                                        Payload mass  \\\n",
            "0                             ~16,800 kg (37,000 lb)   \n",
            "1  Launch of 22 Starlink v2 mini satellites, incl...   \n",
            "2                                1,800 kg (4,000 lb)   \n",
            "3  Broadband internet provider satellite.[25] Fir...   \n",
            "4                             ~17,100 kg (37,700 lb)   \n",
            "\n",
            "                                               Orbit  \\\n",
            "0                                                LEO   \n",
            "1  Launch of 22 Starlink v2 mini satellites, incl...   \n",
            "2                                                GTO   \n",
            "3  Broadband internet provider satellite.[25] Fir...   \n",
            "4                                                LEO   \n",
            "\n",
            "                                            Customer  \\\n",
            "0                                             SpaceX   \n",
            "1  Launch of 22 Starlink v2 mini satellites, incl...   \n",
            "2                                              Ovzon   \n",
            "3  Broadband internet provider satellite.[25] Fir...   \n",
            "4                                             SpaceX   \n",
            "\n",
            "                                      Launch outcome  \\\n",
            "0                                            Success   \n",
            "1  Launch of 22 Starlink v2 mini satellites, incl...   \n",
            "2                                            Success   \n",
            "3  Broadband internet provider satellite.[25] Fir...   \n",
            "4                                            Success   \n",
            "\n",
            "                                     Booster landing  \n",
            "0                                   Success (OCISLY)  \n",
            "1  Launch of 22 Starlink v2 mini satellites, incl...  \n",
            "2                                     Success (LZ‑1)  \n",
            "3  Broadband internet provider satellite.[25] Fir...  \n",
            "4                                     Success (ASOG)  \n"
          ]
        },
        {
          "output_type": "stream",
          "name": "stderr",
          "text": [
            "/tmp/ipython-input-2472212057.py:10: FutureWarning: Passing literal html to 'read_html' is deprecated and will be removed in a future version. To read from a literal string, wrap it in a 'StringIO' object.\n",
            "  df_launches = pd.read_html(str(tables[0]))[0]\n"
          ]
        }
      ],
      "source": [
        "import requests\n",
        "from bs4 import BeautifulSoup\n",
        "import pandas as pd\n",
        "url = \"https://en.wikipedia.org/wiki/List_of_Falcon_9_and_Falcon_Heavy_launches\"\n",
        "headers = {\"User-Agent\": \"Mozilla/5.0\"}\n",
        "response = requests.get(url, headers=headers)\n",
        "soup = BeautifulSoup(response.text, \"html.parser\")\n",
        "tables = soup.find_all(\"table\", {\"class\": \"wikitable\"})\n",
        "print(f\"Found {len(tables)} tables\")\n",
        "df_launches = pd.read_html(str(tables[0]))[0]\n",
        "print(df_launches.head())\n",
        "\n",
        "\n"
      ]
    },
    {
      "cell_type": "code",
      "source": [
        "\n",
        "df_launches.to_csv(\"spacex_launches.csv\", index=False)\n",
        "\n",
        "print(\"CSV file saved successfully!\")\n"
      ],
      "metadata": {
        "colab": {
          "base_uri": "https://localhost:8080/"
        },
        "id": "kVyvtGEUH4ft",
        "outputId": "404c593d-fe91-40eb-92b8-f83f57f9e688"
      },
      "execution_count": 9,
      "outputs": [
        {
          "output_type": "stream",
          "name": "stdout",
          "text": [
            "CSV file saved successfully!\n"
          ]
        }
      ]
    }
  ]
}